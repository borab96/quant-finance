{
 "cells": [
  {
   "cell_type": "markdown",
   "source": [
    "# Simple example"
   ],
   "metadata": {
    "collapsed": false,
    "pycharm": {
     "name": "#%% md\n"
    }
   }
  },
  {
   "cell_type": "code",
   "execution_count": 179,
   "outputs": [],
   "source": [
    "from river import synth\n",
    "from river import ensemble\n",
    "from river import evaluate\n",
    "from river import metrics\n",
    "import matplotlib.pyplot as plt\n",
    "\n",
    "# dataset = synth.ConceptDriftStream(seed=42, position=500, width=40).take(1000)\n",
    "#\n",
    "# model = ensemble.AdaptiveRandomForestClassifier(n_models=3,seed=42)\n",
    "# metric = metrics.Accuracy()\n",
    "#\n",
    "# for x, y in dataset:\n",
    "#     print(x, y)"
   ],
   "metadata": {
    "collapsed": false,
    "pycharm": {
     "name": "#%%\n"
    }
   }
  },
  {
   "cell_type": "code",
   "execution_count": 180,
   "outputs": [],
   "source": [
    "# evaluate.progressive_val_score(dataset, model, metric)"
   ],
   "metadata": {
    "collapsed": false,
    "pycharm": {
     "name": "#%%\n"
    }
   }
  },
  {
   "cell_type": "markdown",
   "source": [
    "# Order book prediction"
   ],
   "metadata": {
    "collapsed": false,
    "pycharm": {
     "name": "#%% md\n"
    }
   }
  },
  {
   "cell_type": "code",
   "execution_count": 181,
   "outputs": [],
   "source": [
    "from data.historical import Quote\n",
    "from alpaca_trade_api.rest import REST, TimeFrame"
   ],
   "metadata": {
    "collapsed": false,
    "pycharm": {
     "name": "#%%\n"
    }
   }
  },
  {
   "cell_type": "code",
   "execution_count": 182,
   "outputs": [
    {
     "name": "stderr",
     "output_type": "stream",
     "text": [
      "C:\\Users\\Bora\\anaconda3\\envs\\alpaca-research\\lib\\site-packages\\pandas\\core\\arraylike.py:397: RuntimeWarning: divide by zero encountered in log\n",
      "  result = getattr(ufunc, method)(*inputs, **kwargs)\n"
     ]
    },
    {
     "name": "stdout",
     "output_type": "stream",
     "text": [
      "(99490, 43)\n"
     ]
    },
    {
     "name": "stderr",
     "output_type": "stream",
     "text": [
      "C:\\Users\\Bora\\Insync\\borabasa@gmail.com\\Google Drive\\GitHub\\alpaca-research\\data\\historical.py:139: UserWarning: Aggregated features are non-causal in information-time. Use at least second-time-bars\n",
      "  warnings.warn(\"Aggregated features are non-causal in information-time. Use at least second-time-bars\")\n"
     ]
    },
    {
     "data": {
      "text/plain": "                                     ask_price  ask_size  bid_price  bid_size  \\\ntimestamp_                                                                      \n2022-04-18 08:00:02.013823398+00:00     435.81         4     435.69         5   \n2022-04-18 08:00:02.013923+00:00        435.81         5     435.69         5   \n2022-04-18 08:00:02.013972+00:00        435.82         5     435.69         5   \n2022-04-18 08:00:02.014049+00:00        435.82         5     435.69         6   \n2022-04-18 08:00:02.016026+00:00        435.83         5     435.69         6   \n\n                                     seconds_elapsed  hour         WAP  \\\ntimestamp_                                                               \n2022-04-18 08:00:02.013823398+00:00              2.0     8  435.756667   \n2022-04-18 08:00:02.013923+00:00                 2.0     8  435.750000   \n2022-04-18 08:00:02.013972+00:00                 2.0     8  435.755000   \n2022-04-18 08:00:02.014049+00:00                 2.0     8  435.760909   \n2022-04-18 08:00:02.016026+00:00                 2.0     8  435.766364   \n\n                                      log_ret  spread      mid  ...  \\\ntimestamp_                                                      ...   \n2022-04-18 08:00:02.013823398+00:00  0.000013    0.12  435.750  ...   \n2022-04-18 08:00:02.013923+00:00    -0.000015    0.12  435.750  ...   \n2022-04-18 08:00:02.013972+00:00     0.000011    0.13  435.755  ...   \n2022-04-18 08:00:02.014049+00:00     0.000014    0.13  435.755  ...   \n2022-04-18 08:00:02.016026+00:00     0.000013    0.14  435.760  ...   \n\n                                     spread_std  spread_max_move  \\\ntimestamp_                                                         \n2022-04-18 08:00:02.013823398+00:00    0.008367             0.02   \n2022-04-18 08:00:02.013923+00:00       0.008367             0.02   \n2022-04-18 08:00:02.013972+00:00       0.008367             0.02   \n2022-04-18 08:00:02.014049+00:00       0.008367             0.02   \n2022-04-18 08:00:02.016026+00:00       0.008367             0.02   \n\n                                     spread_num_outliers  ask_size_mean  \\\ntimestamp_                                                                \n2022-04-18 08:00:02.013823398+00:00                    0            4.8   \n2022-04-18 08:00:02.013923+00:00                       0            4.8   \n2022-04-18 08:00:02.013972+00:00                       0            4.8   \n2022-04-18 08:00:02.014049+00:00                       0            4.8   \n2022-04-18 08:00:02.016026+00:00                       0            4.8   \n\n                                     ask_size_sum  bid_size_mean  \\\ntimestamp_                                                         \n2022-04-18 08:00:02.013823398+00:00            24            5.4   \n2022-04-18 08:00:02.013923+00:00               24            5.4   \n2022-04-18 08:00:02.013972+00:00               24            5.4   \n2022-04-18 08:00:02.014049+00:00               24            5.4   \n2022-04-18 08:00:02.016026+00:00               24            5.4   \n\n                                     bid_size_sum  \\\ntimestamp_                                          \n2022-04-18 08:00:02.013823398+00:00            27   \n2022-04-18 08:00:02.013923+00:00               27   \n2022-04-18 08:00:02.013972+00:00               27   \n2022-04-18 08:00:02.014049+00:00               27   \n2022-04-18 08:00:02.016026+00:00               27   \n\n                                     log_ret_realized_volatility  intensity  \\\ntimestamp_                                                                    \n2022-04-18 08:00:02.013823398+00:00                      0.00003          5   \n2022-04-18 08:00:02.013923+00:00                         0.00003          5   \n2022-04-18 08:00:02.013972+00:00                         0.00003          5   \n2022-04-18 08:00:02.014049+00:00                         0.00003          5   \n2022-04-18 08:00:02.016026+00:00                         0.00003          5   \n\n                                     acceleration  \ntimestamp_                                         \n2022-04-18 08:00:02.013823398+00:00           4.0  \n2022-04-18 08:00:02.013923+00:00              4.0  \n2022-04-18 08:00:02.013972+00:00              4.0  \n2022-04-18 08:00:02.014049+00:00              4.0  \n2022-04-18 08:00:02.016026+00:00              4.0  \n\n[5 rows x 43 columns]",
      "text/html": "<div>\n<style scoped>\n    .dataframe tbody tr th:only-of-type {\n        vertical-align: middle;\n    }\n\n    .dataframe tbody tr th {\n        vertical-align: top;\n    }\n\n    .dataframe thead th {\n        text-align: right;\n    }\n</style>\n<table border=\"1\" class=\"dataframe\">\n  <thead>\n    <tr style=\"text-align: right;\">\n      <th></th>\n      <th>ask_price</th>\n      <th>ask_size</th>\n      <th>bid_price</th>\n      <th>bid_size</th>\n      <th>seconds_elapsed</th>\n      <th>hour</th>\n      <th>WAP</th>\n      <th>log_ret</th>\n      <th>spread</th>\n      <th>mid</th>\n      <th>...</th>\n      <th>spread_std</th>\n      <th>spread_max_move</th>\n      <th>spread_num_outliers</th>\n      <th>ask_size_mean</th>\n      <th>ask_size_sum</th>\n      <th>bid_size_mean</th>\n      <th>bid_size_sum</th>\n      <th>log_ret_realized_volatility</th>\n      <th>intensity</th>\n      <th>acceleration</th>\n    </tr>\n    <tr>\n      <th>timestamp_</th>\n      <th></th>\n      <th></th>\n      <th></th>\n      <th></th>\n      <th></th>\n      <th></th>\n      <th></th>\n      <th></th>\n      <th></th>\n      <th></th>\n      <th></th>\n      <th></th>\n      <th></th>\n      <th></th>\n      <th></th>\n      <th></th>\n      <th></th>\n      <th></th>\n      <th></th>\n      <th></th>\n      <th></th>\n    </tr>\n  </thead>\n  <tbody>\n    <tr>\n      <th>2022-04-18 08:00:02.013823398+00:00</th>\n      <td>435.81</td>\n      <td>4</td>\n      <td>435.69</td>\n      <td>5</td>\n      <td>2.0</td>\n      <td>8</td>\n      <td>435.756667</td>\n      <td>0.000013</td>\n      <td>0.12</td>\n      <td>435.750</td>\n      <td>...</td>\n      <td>0.008367</td>\n      <td>0.02</td>\n      <td>0</td>\n      <td>4.8</td>\n      <td>24</td>\n      <td>5.4</td>\n      <td>27</td>\n      <td>0.00003</td>\n      <td>5</td>\n      <td>4.0</td>\n    </tr>\n    <tr>\n      <th>2022-04-18 08:00:02.013923+00:00</th>\n      <td>435.81</td>\n      <td>5</td>\n      <td>435.69</td>\n      <td>5</td>\n      <td>2.0</td>\n      <td>8</td>\n      <td>435.750000</td>\n      <td>-0.000015</td>\n      <td>0.12</td>\n      <td>435.750</td>\n      <td>...</td>\n      <td>0.008367</td>\n      <td>0.02</td>\n      <td>0</td>\n      <td>4.8</td>\n      <td>24</td>\n      <td>5.4</td>\n      <td>27</td>\n      <td>0.00003</td>\n      <td>5</td>\n      <td>4.0</td>\n    </tr>\n    <tr>\n      <th>2022-04-18 08:00:02.013972+00:00</th>\n      <td>435.82</td>\n      <td>5</td>\n      <td>435.69</td>\n      <td>5</td>\n      <td>2.0</td>\n      <td>8</td>\n      <td>435.755000</td>\n      <td>0.000011</td>\n      <td>0.13</td>\n      <td>435.755</td>\n      <td>...</td>\n      <td>0.008367</td>\n      <td>0.02</td>\n      <td>0</td>\n      <td>4.8</td>\n      <td>24</td>\n      <td>5.4</td>\n      <td>27</td>\n      <td>0.00003</td>\n      <td>5</td>\n      <td>4.0</td>\n    </tr>\n    <tr>\n      <th>2022-04-18 08:00:02.014049+00:00</th>\n      <td>435.82</td>\n      <td>5</td>\n      <td>435.69</td>\n      <td>6</td>\n      <td>2.0</td>\n      <td>8</td>\n      <td>435.760909</td>\n      <td>0.000014</td>\n      <td>0.13</td>\n      <td>435.755</td>\n      <td>...</td>\n      <td>0.008367</td>\n      <td>0.02</td>\n      <td>0</td>\n      <td>4.8</td>\n      <td>24</td>\n      <td>5.4</td>\n      <td>27</td>\n      <td>0.00003</td>\n      <td>5</td>\n      <td>4.0</td>\n    </tr>\n    <tr>\n      <th>2022-04-18 08:00:02.016026+00:00</th>\n      <td>435.83</td>\n      <td>5</td>\n      <td>435.69</td>\n      <td>6</td>\n      <td>2.0</td>\n      <td>8</td>\n      <td>435.766364</td>\n      <td>0.000013</td>\n      <td>0.14</td>\n      <td>435.760</td>\n      <td>...</td>\n      <td>0.008367</td>\n      <td>0.02</td>\n      <td>0</td>\n      <td>4.8</td>\n      <td>24</td>\n      <td>5.4</td>\n      <td>27</td>\n      <td>0.00003</td>\n      <td>5</td>\n      <td>4.0</td>\n    </tr>\n  </tbody>\n</table>\n<p>5 rows × 43 columns</p>\n</div>"
     },
     "execution_count": 182,
     "metadata": {},
     "output_type": "execute_result"
    }
   ],
   "source": [
    "aapl = Quote(REST(), 'SPY',start=\"2022-04-18\", end=\"2022-04-18\", limit=100000)\n",
    "print(aapl.shape)\n",
    "aapl.head(5)"
   ],
   "metadata": {
    "collapsed": false,
    "pycharm": {
     "name": "#%%\n"
    }
   }
  },
  {
   "cell_type": "code",
   "execution_count": 202,
   "outputs": [
    {
     "data": {
      "text/plain": "(7511, 42)"
     },
     "execution_count": 202,
     "metadata": {},
     "output_type": "execute_result"
    }
   ],
   "source": [
    "def labeler(data, cut_off=0.2):\n",
    "\n",
    "    data['label'] = data.log_ret.shift(-1)\n",
    "    data['label_ma'] = data.label.rolling(15).mean()\n",
    "    data['label_std'] = data.label.rolling(15).std()\n",
    "    data.dropna(inplace=True)\n",
    "    data['label_'] = (data['label']-data['label_ma'])/data['label_std']\n",
    "    data.label.loc[data.label_>cut_off] = 1\n",
    "    # data.label.loc[data.label_>2*cut_off] = 2\n",
    "    data.label.loc[data.label_<-cut_off] = -1\n",
    "    # data.label.loc[data.label_<-2*cut_off] = -2\n",
    "    data.label.loc[(cut_off>data.label_)&(data.label_>-cut_off)] = 0\n",
    "    data.drop(columns=[\"label_ma\", 'label_', 'label_std'], inplace=True)\n",
    "    return data.iloc[:,:-1], data.iloc[:, -1]\n",
    "\n",
    "def split(x, y, ratio=0.7):\n",
    "    n_train = int(len(x)*ratio)\n",
    "    return x.iloc[:n_train, :], y.iloc[:n_train], x.iloc[n_train:, :], y.iloc[n_train:]\n",
    "\n",
    "\n",
    "features = aapl.df.groupby('seconds_elapsed').mean()\n",
    "x, y = labeler(features)\n",
    "x.shape\n",
    "# x_train, y_train, x_test, y_test = split(x, y)\n",
    "# x_train.shape"
   ],
   "metadata": {
    "collapsed": false,
    "pycharm": {
     "name": "#%%\n"
    }
   }
  },
  {
   "cell_type": "code",
   "execution_count": 203,
   "outputs": [
    {
     "data": {
      "text/plain": "<AxesSubplot:ylabel='Frequency'>"
     },
     "execution_count": 203,
     "metadata": {},
     "output_type": "execute_result"
    },
    {
     "data": {
      "text/plain": "<Figure size 432x288 with 1 Axes>",
      "image/png": "[encoded data removed]"
     },
     "metadata": {
      "needs_background": "light"
     },
     "output_type": "display_data"
    }
   ],
   "source": [
    "y.plot.hist()"
   ],
   "metadata": {
    "collapsed": false,
    "pycharm": {
     "name": "#%%\n"
    }
   }
  },
  {
   "cell_type": "code",
   "execution_count": 204,
   "outputs": [],
   "source": [
    "\n",
    "model = ensemble.AdaptiveRandomForestClassifier(n_models=10,seed=42, max_depth=5)\n",
    "metric = metrics.F1()\n",
    "cm = metrics.ConfusionMatrix()\n",
    "metric_vec = []\n",
    "for x_, y_ in zip(x.values, y.values):\n",
    "    x_ = dict(zip(x.columns, x_))\n",
    "    y_pred = model.predict_proba_one(x_)\n",
    "    model.learn_one(x_, y_)\n",
    "    try:\n",
    "        y_pred = max(y_pred, key=y_pred.get)\n",
    "    except ValueError:\n",
    "        continue\n",
    "    metric.update(y_, y_pred)\n",
    "    metric_vec.append(metric.get())\n",
    "    cm.update(y_, y_pred)"
   ],
   "metadata": {
    "collapsed": false,
    "pycharm": {
     "name": "#%%\n"
    }
   }
  },
  {
   "cell_type": "code",
   "execution_count": 205,
   "outputs": [
    {
     "data": {
      "text/plain": "F1: 47.60%"
     },
     "execution_count": 205,
     "metadata": {},
     "output_type": "execute_result"
    }
   ],
   "source": [
    "metric"
   ],
   "metadata": {
    "collapsed": false,
    "pycharm": {
     "name": "#%%\n"
    }
   }
  },
  {
   "cell_type": "code",
   "execution_count": 206,
   "outputs": [
    {
     "data": {
      "text/plain": "       -1.0    0.0   1.0    \n-1.0   1,556   161     982  \n 0.0   1,048   138     967  \n 1.0   1,058   161   1,439  "
     },
     "execution_count": 206,
     "metadata": {},
     "output_type": "execute_result"
    }
   ],
   "source": [
    "cm"
   ],
   "metadata": {
    "collapsed": false,
    "pycharm": {
     "name": "#%%\n"
    }
   }
  },
  {
   "cell_type": "code",
   "execution_count": 207,
   "outputs": [
    {
     "data": {
      "text/plain": "[<matplotlib.lines.Line2D at 0x2436d938f40>]"
     },
     "execution_count": 207,
     "metadata": {},
     "output_type": "execute_result"
    },
    {
     "data": {
      "text/plain": "<Figure size 432x288 with 1 Axes>",
      "image/png": "[encoded data removed]"
     },
     "metadata": {
      "needs_background": "light"
     },
     "output_type": "display_data"
    }
   ],
   "source": [
    "plt.plot(metric_vec)"
   ],
   "metadata": {
    "collapsed": false,
    "pycharm": {
     "name": "#%%\n"
    }
   }
  },
  {
   "cell_type": "code",
   "execution_count": null,
   "outputs": [],
   "source": [],
   "metadata": {
    "collapsed": false,
    "pycharm": {
     "name": "#%%\n"
    }
   }
  }
 ],
 "metadata": {
  "kernelspec": {
   "display_name": "Python 3",
   "language": "python",
   "name": "python3"
  },
  "language_info": {
   "codemirror_mode": {
    "name": "ipython",
    "version": 2
   },
   "file_extension": ".py",
   "mimetype": "text/x-python",
   "name": "python",
   "nbconvert_exporter": "python",
   "pygments_lexer": "ipython2",
   "version": "2.7.6"
  }
 },
 "nbformat": 4,
 "nbformat_minor": 0
}