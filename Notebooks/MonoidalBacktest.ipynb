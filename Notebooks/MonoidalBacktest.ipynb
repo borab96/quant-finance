{
 "cells": [
  {
   "cell_type": "code",
   "execution_count": 23,
   "metadata": {
    "collapsed": true
   },
   "outputs": [],
   "source": [
    "import pandas as pd\n",
    "from dataclasses import dataclass, field\n",
    "import matplotlib.pyplot as plt\n",
    "import numpy as np"
   ]
  },
  {
   "cell_type": "markdown",
   "metadata": {},
   "source": [
    "# An algebraic backtesting framework\n",
    "\n",
    "## The position type\n",
    "\n",
    "The core of a general event-driven backtesting framework is either the *Position* or *Order* object, depending on timescales of interest, among other things. We will abstract this notion and define an abstract category of *Positions* and provide a minimal structure with which we can emulate trading activity. We begin first with a concrete implementation of the base *Position* type:"
   ]
  },
  {
   "cell_type": "code",
   "execution_count": 4,
   "metadata": {},
   "outputs": [],
   "source": [
    "pdts = pd.Timestamp\n",
    "@dataclass\n",
    "class Position:\n",
    "    ticker_symbol: str\n",
    "    init_date: str or None\n",
    "    shares: float\n",
    "    roll_date : None = None\n",
    "    id: int = field(default=-1, repr=False)\n",
    "    def __post_init__(self):\n",
    "        if not pdts(self.init_date).dayofweek < 5:\n",
    "            raise Exception(f'{self.init_date} is a weekend')\n",
    "    @property\n",
    "    def is_open(self):\n",
    "        if self.shares == 0:\n",
    "            return False\n",
    "        else:\n",
    "            return True\n",
    "    def __str__(self):\n",
    "        return f\"Position(Ticker: {self.ticker_symbol}, Shares: {self.shares}, \"\\\n",
    "                   f\"InitDate: {self.init_date}, RollDate: {self.roll_date})\"\n",
    "    def __bool__(self):\n",
    "        return self.is_open\n",
    "    def __hash__(self):\n",
    "        self.id = hash((self.ticker_symbol, self.init_date))\n",
    "        return self.id"
   ]
  },
  {
   "cell_type": "markdown",
   "source": [
    "Objects belonging to this dataclass are defined by a symbol and an entry date, as far as the ``__hash__`` method is concerned. Though abstractly, the category of *Positions* contain the tuple (symbol, entry date, size, roll date) as objects. Morphisms are defined as updates of the latter two tuple entries obeying some obvious causality and conservation rules.\n",
    "\n",
    "In fact, what is natural is to give this category a monoidal structure defined by the natural binary operation (denoted by .) on positions is the addition or subtraction of shares of a base position (the position with 0 shares) on some roll date.  Fixing a symbol and entry date, we can define by the triple $((\\text{symbol}, \\text{entry date}),0, . )$ a position monoid.\n",
    "\n",
    "### The position monoid\n",
    "\n",
    "Since python is dynamically typed, we need an additional ingredient — the lift. In this context, a lift can be viewed as typecasting. For instance, a float can be lifted to type Position(symbol, date, .) through\n",
    "\n",
    "```python\n",
    "cast_to_pos = lambda q : Position(symbol, date, q)\n",
    "```\n",
    "\n",
    "We can now define the abstract monoid class:"
   ],
   "metadata": {
    "collapsed": false,
    "pycharm": {
     "name": "#%% md\n"
    }
   }
  },
  {
   "cell_type": "code",
   "execution_count": 5,
   "outputs": [],
   "source": [
    "class Monoid:\n",
    "    def __init__(self, null, lift, binary_op):\n",
    "        self.null = null\n",
    "        self.lift = lift\n",
    "        self.binary_op = binary_op\n",
    "\n",
    "    def __call__(self, *args):\n",
    "        _ = self.null\n",
    "        for arg in args:\n",
    "            arg = self.lift(arg)\n",
    "            _ = self.binary_op(_, arg)\n",
    "        return _"
   ],
   "metadata": {
    "collapsed": false,
    "pycharm": {
     "name": "#%%\n"
    }
   }
  },
  {
   "cell_type": "markdown",
   "source": [
    "and, as an example, a SPY position monoid:"
   ],
   "metadata": {
    "collapsed": false,
    "pycharm": {
     "name": "#%% md\n"
    }
   }
  },
  {
   "cell_type": "code",
   "execution_count": 6,
   "outputs": [],
   "source": [
    "lift = lambda x: Position(\"SPY\", '2020-02-05', *x)\n",
    "base = lift((0, \"2020-02-05\"))\n",
    "def add(a, b):\n",
    "    if a.ticker_symbol == b.ticker_symbol:\n",
    "        return Position(ticker_symbol=a.ticker_symbol, init_date=a.init_date,\n",
    "                        roll_date=b.roll_date, shares=a.shares+b.shares)\n",
    "    else:\n",
    "        pass # Need an extension of the Position group\n",
    "\n",
    "position_monoid = Monoid(base, lift, add)"
   ],
   "metadata": {
    "collapsed": false,
    "pycharm": {
     "name": "#%%\n"
    }
   }
  },
  {
   "cell_type": "markdown",
   "source": [
    "We can appends to the base object (SPY, ‘2020–02–05’, 0) 2 shares on “2020–02–08” and 3 on “2020–02–10” — valid monoidal operations:"
   ],
   "metadata": {
    "collapsed": false,
    "pycharm": {
     "name": "#%% md\n"
    }
   }
  },
  {
   "cell_type": "code",
   "execution_count": 30,
   "outputs": [
    {
     "name": "stdout",
     "output_type": "stream",
     "text": [
      "Position(Ticker: SPY, Shares: 2, InitDate: 2020-02-05, RollDate: 2020-02-08)\n",
      "Position(Ticker: SPY, Shares: -2, InitDate: 2020-02-05, RollDate: 2020-02-10)\n"
     ]
    }
   ],
   "source": [
    "for update in [(2, \"2020-02-08\"), (-2, \"2020-02-10\")]:\n",
    "    print(position_monoid(update))"
   ],
   "metadata": {
    "collapsed": false,
    "pycharm": {
     "name": "#%%\n"
    }
   }
  },
  {
   "cell_type": "markdown",
   "source": [
    "You’ll notice that any open Position object has a natural inverse: Position(symbol, date, q)↦Position(symbol, date’, -q). It seems this idea can be leveraged to implement position closing. To add a bit more rigor to this notion, let us recall the definition of a terminal object in a category, C:\n",
    "\n",
    "> An object $0\\in C$ is the terminal object if $\\exists!x\\to 0$ for any $x\\in C$. This unique map, if it exists, is the terminator.\n",
    "\n",
    "If we assume date’ is ahead of date, we can take the composition with the forward dated inverse as yielding the base (0) object dated in the future which we interpret as the terminal object. The terminator in the monoidal position category corresponds to buy/sell to close operations.\n",
    "\n",
    "In order to ensure initial and terminal objects are well defined, we need to do two things:\n",
    "\n",
    "1. check that roll dates are never before the entry date\n",
    "2. check if the created Position object is terminal.\n",
    "\n",
    "At this level of abstraction, it might make the most sense to raise an exception when a terminal position is updated or when an update is dated before the entry date and handle them later."
   ],
   "metadata": {
    "collapsed": false,
    "pycharm": {
     "name": "#%% md\n"
    }
   }
  },
  {
   "cell_type": "markdown",
   "source": [
    "## Logging and backtesting\n",
    "\n",
    "It is important that we have a mechanism for dumping the sequence of actions we take into a trade log. One can do this by the standard logging functionality of python or take a more structured approach. We take the latter approach and create a pandas time series of holdings with the decorator"
   ],
   "metadata": {
    "collapsed": false,
    "pycharm": {
     "name": "#%% md\n"
    }
   }
  },
  {
   "cell_type": "code",
   "execution_count": 19,
   "outputs": [],
   "source": [
    "def log_positions(pd_series):\n",
    "    def logger(func):\n",
    "        def wrapper(a, b):\n",
    "            pos = b\n",
    "            if pos.roll_date:\n",
    "                pd_series[pos.roll_date] = pos.shares\n",
    "            else:\n",
    "                pd_series[pos.init_date] = pos.shares\n",
    "            # pd_series.fillna(inplace=True, method='ffill')\n",
    "            return func(a, b)\n",
    "        return wrapper\n",
    "    return logger"
   ],
   "metadata": {
    "collapsed": false,
    "pycharm": {
     "name": "#%%\n"
    }
   }
  },
  {
   "cell_type": "markdown",
   "source": [
    "which is to be applied to the monoid operation, ``add``:"
   ],
   "metadata": {
    "collapsed": false
   }
  },
  {
   "cell_type": "code",
   "execution_count": 42,
   "outputs": [
    {
     "name": "stdout",
     "output_type": "stream",
     "text": [
      "Position(Ticker: SPY, Shares: 2, InitDate: 2020-02-05, RollDate: 2020-02-05)\n",
      "Position(Ticker: SPY, Shares: -7, InitDate: 2020-02-05, RollDate: 2020-02-10)\n",
      "Position(Ticker: SPY, Shares: 2, InitDate: 2020-02-05, RollDate: 2020-02-13)\n",
      "Position(Ticker: SPY, Shares: -2, InitDate: 2020-02-05, RollDate: 2020-02-25)\n"
     ]
    }
   ],
   "source": [
    "series = pd.Series(index=pd.date_range(start='2020-02-05', end='2020-02-29'), dtype=float) # backtest interval\n",
    "@log_positions(pd_series=series)\n",
    "def add(a, b):\n",
    "    if a.ticker_symbol == b.ticker_symbol:\n",
    "        return Position(ticker_symbol=a.ticker_symbol, init_date=a.init_date,\n",
    "                        roll_date=b.roll_date, shares=a.shares+b.shares)\n",
    "    else:\n",
    "        pass # Need an extension of the Position group\n",
    "\n",
    "position_monoid = Monoid(base, lift, add)\n",
    "for update in [(2, \"2020-02-05\"), (-7, \"2020-02-10\"), (2,  \"2020-02-13\"), (-2,  \"2020-02-25\")]:\n",
    "    print(position_monoid(update))"
   ],
   "metadata": {
    "collapsed": false,
    "pycharm": {
     "name": "#%%\n"
    }
   }
  },
  {
   "cell_type": "markdown",
   "source": [
    "Plotting positioning over time,"
   ],
   "metadata": {
    "collapsed": false,
    "pycharm": {
     "name": "#%% md\n"
    }
   }
  },
  {
   "cell_type": "code",
   "execution_count": 43,
   "outputs": [
    {
     "data": {
      "text/plain": "Text(0, 0.5, 'Trade signals')"
     },
     "execution_count": 43,
     "metadata": {},
     "output_type": "execute_result"
    },
    {
     "data": {
      "text/plain": "<Figure size 432x288 with 1 Axes>",
      "image/png": "[encoded data removed]"
     },
     "metadata": {
      "needs_background": "light"
     },
     "output_type": "display_data"
    }
   ],
   "source": [
    "plt.figure()\n",
    "plt.stem(series.index, series)\n",
    "plt.xticks(rotation=-45)\n",
    "plt.ylabel(\"Trade signals\")"
   ],
   "metadata": {
    "collapsed": false,
    "pycharm": {
     "name": "#%%\n"
    }
   }
  },
  {
   "cell_type": "markdown",
   "source": [
    "### Incorporating data\n",
    "\n",
    "We now dress the position series with log returns:"
   ],
   "metadata": {
    "collapsed": false,
    "pycharm": {
     "name": "#%% md\n"
    }
   }
  },
  {
   "cell_type": "code",
   "execution_count": 44,
   "outputs": [
    {
     "data": {
      "text/plain": "<Figure size 432x288 with 1 Axes>",
      "image/png": "[encoded data removed]"
     },
     "metadata": {
      "needs_background": "light"
     },
     "output_type": "display_data"
    }
   ],
   "source": [
    "import pandas_datareader.data as web\n",
    "hist = web.DataReader(\"SPY\", 'yahoo','2020-02-05', '2020-02-29')\n",
    "hist['LogRet'] = np.log(hist['Adj Close']).diff()\n",
    "hist['Position'] = series\n",
    "hist['CumsumPosition'] = np.cumsum(hist['Position'])\n",
    "hist['CumsumPosition'].fillna(inplace=True, method='ffill')\n",
    "hist['position_return'] = hist['CumsumPosition'].shift(1) * hist['LogRet']\n",
    "hist['position_value'] = hist['position_return'].cumsum().apply(np.exp)\n",
    "hist['underlying_value'] = hist['LogRet'].cumsum().apply(np.exp)\n",
    "hist.drop(columns=['High', 'Low', 'Open', 'Close', 'Volume'], inplace=True)\n",
    "hist[['underlying_value', 'position_value']].plot()\n",
    "plt.savefig(\"sample_strat.png\", dpi=400)\n",
    "plt.show()"
   ],
   "metadata": {
    "collapsed": false,
    "pycharm": {
     "name": "#%%\n"
    }
   }
  },
  {
   "cell_type": "markdown",
   "source": [
    "The plot shows the normalized price of SPY and the vectorized backtest of a strategy defined by the positions. As is hopefully clear, the transition from the abstract nonsense of monoids and categories to actionable ideas is almost immediate. To make this transition more clear we need only define a strategy as the sequence\n",
    "$$\n",
    "\\mathcal P_{\\sigma, t_0}(0, t_0)\\to\\mathcal P_{\\sigma,t_0}(s_1, t_1)\\to\\cdots\\to\\mathcal P_{\\sigma, t_0}(0, t_n)\n",
    "$$\n",
    "where $\\sigma$ denotes the symbol, $t_0$ the entry date, $s_i$, $t_i$ for $i>0$ the shares and roll dates respectively. The next order of business is to implement the notion of a portfolio. The natural entry point of this generalization is the add method. We cannot add positions of two different symbols with what we have so far. However, it is clear that the structure closed with respect to the add operation for any symbol is simply a collection of unique position monoids."
   ],
   "metadata": {
    "collapsed": false
   }
  },
  {
   "cell_type": "markdown",
   "source": [
    "The contents of this notebook are published on [medium](https://wire.insiderfinance.io/an-algebraic-framework-for-backtesting-i-4d2ace82276e)"
   ],
   "metadata": {
    "collapsed": false,
    "pycharm": {
     "name": "#%% md\n"
    }
   }
  },
  {
   "cell_type": "code",
   "execution_count": null,
   "outputs": [],
   "source": [],
   "metadata": {
    "collapsed": false,
    "pycharm": {
     "name": "#%%\n"
    }
   }
  }
 ],
 "metadata": {
  "kernelspec": {
   "display_name": "Python 3",
   "language": "python",
   "name": "python3"
  },
  "language_info": {
   "codemirror_mode": {
    "name": "ipython",
    "version": 3
   },
   "file_extension": ".py",
   "mimetype": "text/x-python",
   "name": "python",
   "nbconvert_exporter": "python",
   "pygments_lexer": "ipython3",
   "version": "3.9.5"
  }
 },
 "nbformat": 4,
 "nbformat_minor": 0
}